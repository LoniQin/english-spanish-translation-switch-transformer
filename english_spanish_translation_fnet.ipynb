{
  "nbformat": 4,
  "nbformat_minor": 0,
  "metadata": {
    "kernelspec": {
      "language": "python",
      "display_name": "Python 3",
      "name": "python3"
    },
    "language_info": {
      "name": "python",
      "version": "3.7.10",
      "mimetype": "text/x-python",
      "codemirror_mode": {
        "name": "ipython",
        "version": 3
      },
      "pygments_lexer": "ipython3",
      "nbconvert_exporter": "python",
      "file_extension": ".py"
    },
    "colab": {
      "name": "english-spanish-translation-fnet.ipynb",
      "provenance": []
    },
    "accelerator": "GPU"
  },
  "cells": [
    {
      "cell_type": "markdown",
      "metadata": {
        "id": "QLQhXw_-L3bw"
      },
      "source": [
        "# English-Spanish Translation: FNet\n",
        "## Table of Contents\n",
        "* Overview\n",
        "* Configuration\n",
        "* Setup\n",
        "* Import datasets\n",
        "* Model Development\n",
        "* Transalation\n",
        "* References"
      ]
    },
    {
      "cell_type": "markdown",
      "metadata": {
        "id": "3br121fsL3by"
      },
      "source": [
        "## Overview\n",
        "In this Notebook, I will develop a English-Spanish Translation Model using FNet Transformer Encoder-Decoder Architecture from scratch."
      ]
    },
    {
      "cell_type": "markdown",
      "metadata": {
        "id": "23-sSaFsL3bz"
      },
      "source": [
        "## Configuration"
      ]
    },
    {
      "cell_type": "code",
      "metadata": {
        "execution": {
          "iopub.status.busy": "2021-10-26T14:41:32.958090Z",
          "iopub.execute_input": "2021-10-26T14:41:32.958428Z",
          "iopub.status.idle": "2021-10-26T14:41:33.061188Z",
          "shell.execute_reply.started": "2021-10-26T14:41:32.958350Z",
          "shell.execute_reply": "2021-10-26T14:41:33.060515Z"
        },
        "trusted": true,
        "id": "gmp8ivzzL3bz"
      },
      "source": [
        "class Config:\n",
        "    vocab_size = 15000 # Vocabulary Size\n",
        "    sequence_length = 20\n",
        "    batch_size = 64\n",
        "    validation_split = 0.15\n",
        "    embed_dim = 256\n",
        "    latent_dim = 256\n",
        "    num_heads = 2\n",
        "    epochs = 10 # Number of Epochs to train\n",
        "    model_path = \"model.h5\"\n",
        "    begin_token = \"[start]\"\n",
        "    end_token = \"[end]\"\n",
        "config = Config()"
      ],
      "execution_count": 2,
      "outputs": []
    },
    {
      "cell_type": "markdown",
      "metadata": {
        "id": "98JWyaiDL3b0"
      },
      "source": [
        "## Setup"
      ]
    },
    {
      "cell_type": "markdown",
      "metadata": {
        "id": "lFQaIQlvL3b0"
      },
      "source": [
        "Install latest version of TensorFlow if needed. "
      ]
    },
    {
      "cell_type": "code",
      "metadata": {
        "execution": {
          "iopub.status.busy": "2021-10-26T14:42:06.883445Z",
          "iopub.execute_input": "2021-10-26T14:42:06.884077Z",
          "iopub.status.idle": "2021-10-26T14:43:04.518238Z",
          "shell.execute_reply.started": "2021-10-26T14:42:06.884042Z",
          "shell.execute_reply": "2021-10-26T14:43:04.517405Z"
        },
        "trusted": true,
        "id": "EmrXFlQUL3b1"
      },
      "source": [
        "# !pip install -q tensorflow==2.6.0"
      ],
      "execution_count": 3,
      "outputs": []
    },
    {
      "cell_type": "code",
      "metadata": {
        "execution": {
          "iopub.status.busy": "2021-10-26T14:44:03.157725Z",
          "iopub.execute_input": "2021-10-26T14:44:03.158346Z",
          "iopub.status.idle": "2021-10-26T14:44:05.817181Z",
          "shell.execute_reply.started": "2021-10-26T14:44:03.158307Z",
          "shell.execute_reply": "2021-10-26T14:44:05.816390Z"
        },
        "trusted": true,
        "id": "oda23ThKL3b1"
      },
      "source": [
        "import pandas as pd\n",
        "import tensorflow as tf\n",
        "from tensorflow.keras.layers import TextVectorization\n",
        "import pathlib\n",
        "import random\n",
        "import string\n",
        "import re\n",
        "import numpy as np\n",
        "from tensorflow import keras\n",
        "from tensorflow.keras import layers\n",
        "import os\n",
        "import sklearn\n",
        "from sklearn.model_selection import train_test_split"
      ],
      "execution_count": 24,
      "outputs": []
    },
    {
      "cell_type": "markdown",
      "metadata": {
        "id": "7czW02EaL3b1"
      },
      "source": [
        "## Import datasets"
      ]
    },
    {
      "cell_type": "code",
      "metadata": {
        "execution": {
          "iopub.status.busy": "2021-10-26T14:44:28.610472Z",
          "iopub.execute_input": "2021-10-26T14:44:28.611140Z",
          "iopub.status.idle": "2021-10-26T14:44:29.012260Z",
          "shell.execute_reply.started": "2021-10-26T14:44:28.611097Z",
          "shell.execute_reply": "2021-10-26T14:44:29.009931Z"
        },
        "trusted": true,
        "colab": {
          "base_uri": "https://localhost:8080/",
          "height": 204
        },
        "id": "PLs2vAotL3b2",
        "outputId": "4f6891de-5362-40cf-b6ca-0af0a4220b3d"
      },
      "source": [
        "data = pd.read_csv(\"/kaggle/input/englishspanish-translation-dataset/data.csv\" if os.path.exists(\"/kaggle/input/englishspanish-translation-dataset/data.csv\") else \"data.csv\")\n",
        "data.head()"
      ],
      "execution_count": 5,
      "outputs": [
        {
          "output_type": "execute_result",
          "data": {
            "text/html": [
              "<div>\n",
              "<style scoped>\n",
              "    .dataframe tbody tr th:only-of-type {\n",
              "        vertical-align: middle;\n",
              "    }\n",
              "\n",
              "    .dataframe tbody tr th {\n",
              "        vertical-align: top;\n",
              "    }\n",
              "\n",
              "    .dataframe thead th {\n",
              "        text-align: right;\n",
              "    }\n",
              "</style>\n",
              "<table border=\"1\" class=\"dataframe\">\n",
              "  <thead>\n",
              "    <tr style=\"text-align: right;\">\n",
              "      <th></th>\n",
              "      <th>english</th>\n",
              "      <th>spanish</th>\n",
              "    </tr>\n",
              "  </thead>\n",
              "  <tbody>\n",
              "    <tr>\n",
              "      <th>0</th>\n",
              "      <td>Go.</td>\n",
              "      <td>Ve.</td>\n",
              "    </tr>\n",
              "    <tr>\n",
              "      <th>1</th>\n",
              "      <td>Go.</td>\n",
              "      <td>Vete.</td>\n",
              "    </tr>\n",
              "    <tr>\n",
              "      <th>2</th>\n",
              "      <td>Go.</td>\n",
              "      <td>Vaya.</td>\n",
              "    </tr>\n",
              "    <tr>\n",
              "      <th>3</th>\n",
              "      <td>Go.</td>\n",
              "      <td>Váyase.</td>\n",
              "    </tr>\n",
              "    <tr>\n",
              "      <th>4</th>\n",
              "      <td>Hi.</td>\n",
              "      <td>Hola.</td>\n",
              "    </tr>\n",
              "  </tbody>\n",
              "</table>\n",
              "</div>"
            ],
            "text/plain": [
              "  english  spanish\n",
              "0     Go.      Ve.\n",
              "1     Go.    Vete.\n",
              "2     Go.    Vaya.\n",
              "3     Go.  Váyase.\n",
              "4     Hi.    Hola."
            ]
          },
          "metadata": {},
          "execution_count": 5
        }
      ]
    },
    {
      "cell_type": "code",
      "metadata": {
        "execution": {
          "iopub.status.busy": "2021-10-26T14:44:31.421182Z",
          "iopub.execute_input": "2021-10-26T14:44:31.421699Z",
          "iopub.status.idle": "2021-10-26T14:44:31.490042Z",
          "shell.execute_reply.started": "2021-10-26T14:44:31.421668Z",
          "shell.execute_reply": "2021-10-26T14:44:31.489286Z"
        },
        "trusted": true,
        "id": "Qoqu3RkML3b2"
      },
      "source": [
        "data[\"spanish\"] = data[\"spanish\"].apply(lambda item: config.begin_token + \" \" + item + \" \" + config.end_token)"
      ],
      "execution_count": 6,
      "outputs": []
    },
    {
      "cell_type": "code",
      "metadata": {
        "execution": {
          "iopub.status.busy": "2021-10-26T14:44:33.704328Z",
          "iopub.execute_input": "2021-10-26T14:44:33.704874Z",
          "iopub.status.idle": "2021-10-26T14:44:33.713378Z",
          "shell.execute_reply.started": "2021-10-26T14:44:33.704835Z",
          "shell.execute_reply": "2021-10-26T14:44:33.712613Z"
        },
        "trusted": true,
        "colab": {
          "base_uri": "https://localhost:8080/",
          "height": 204
        },
        "id": "5_v8o1ysL3b2",
        "outputId": "e1475097-f029-40f5-c7ae-10652ec2832c"
      },
      "source": [
        "data.head()"
      ],
      "execution_count": 7,
      "outputs": [
        {
          "output_type": "execute_result",
          "data": {
            "text/html": [
              "<div>\n",
              "<style scoped>\n",
              "    .dataframe tbody tr th:only-of-type {\n",
              "        vertical-align: middle;\n",
              "    }\n",
              "\n",
              "    .dataframe tbody tr th {\n",
              "        vertical-align: top;\n",
              "    }\n",
              "\n",
              "    .dataframe thead th {\n",
              "        text-align: right;\n",
              "    }\n",
              "</style>\n",
              "<table border=\"1\" class=\"dataframe\">\n",
              "  <thead>\n",
              "    <tr style=\"text-align: right;\">\n",
              "      <th></th>\n",
              "      <th>english</th>\n",
              "      <th>spanish</th>\n",
              "    </tr>\n",
              "  </thead>\n",
              "  <tbody>\n",
              "    <tr>\n",
              "      <th>0</th>\n",
              "      <td>Go.</td>\n",
              "      <td>[start] Ve. [end]</td>\n",
              "    </tr>\n",
              "    <tr>\n",
              "      <th>1</th>\n",
              "      <td>Go.</td>\n",
              "      <td>[start] Vete. [end]</td>\n",
              "    </tr>\n",
              "    <tr>\n",
              "      <th>2</th>\n",
              "      <td>Go.</td>\n",
              "      <td>[start] Vaya. [end]</td>\n",
              "    </tr>\n",
              "    <tr>\n",
              "      <th>3</th>\n",
              "      <td>Go.</td>\n",
              "      <td>[start] Váyase. [end]</td>\n",
              "    </tr>\n",
              "    <tr>\n",
              "      <th>4</th>\n",
              "      <td>Hi.</td>\n",
              "      <td>[start] Hola. [end]</td>\n",
              "    </tr>\n",
              "  </tbody>\n",
              "</table>\n",
              "</div>"
            ],
            "text/plain": [
              "  english                spanish\n",
              "0     Go.      [start] Ve. [end]\n",
              "1     Go.    [start] Vete. [end]\n",
              "2     Go.    [start] Vaya. [end]\n",
              "3     Go.  [start] Váyase. [end]\n",
              "4     Hi.    [start] Hola. [end]"
            ]
          },
          "metadata": {},
          "execution_count": 7
        }
      ]
    },
    {
      "cell_type": "code",
      "metadata": {
        "execution": {
          "iopub.status.busy": "2021-10-26T15:15:33.348887Z",
          "iopub.execute_input": "2021-10-26T15:15:33.349637Z",
          "iopub.status.idle": "2021-10-26T15:15:43.767074Z",
          "shell.execute_reply.started": "2021-10-26T15:15:33.349601Z",
          "shell.execute_reply": "2021-10-26T15:15:43.766317Z"
        },
        "trusted": true,
        "colab": {
          "base_uri": "https://localhost:8080/"
        },
        "id": "UFkrzR2fL3b3",
        "outputId": "738d1a66-de78-405e-c906-817af2cb987f"
      },
      "source": [
        "strip_chars = string.punctuation + \"¿\"\n",
        "strip_chars = strip_chars.replace(\"[\", \"\")\n",
        "strip_chars = strip_chars.replace(\"]\", \"\")\n",
        "print(strip_chars)\n",
        "def spanish_standardize(input_string):\n",
        "    lowercase = tf.strings.lower(input_string)\n",
        "    return tf.strings.regex_replace(lowercase, \"[%s]\"%re.escape(strip_chars), \"\")\n",
        "english_vectorization = TextVectorization(\n",
        "    max_tokens=config.vocab_size, \n",
        "    output_mode=\"int\", \n",
        "    output_sequence_length=config.sequence_length,\n",
        ")\n",
        "spanish_vectorization = TextVectorization(\n",
        "    max_tokens=config.vocab_size,\n",
        "    output_mode=\"int\",\n",
        "    output_sequence_length=config.sequence_length + 1,\n",
        "    standardize=spanish_standardize,\n",
        ")\n",
        "english_vectorization.adapt(list(data[\"english\"]))\n",
        "spanish_vectorization.adapt(list(data[\"spanish\"]))"
      ],
      "execution_count": 8,
      "outputs": [
        {
          "output_type": "stream",
          "name": "stdout",
          "text": [
            "!\"#$%&'()*+,-./:;<=>?@\\^_`{|}~¿\n"
          ]
        }
      ]
    },
    {
      "cell_type": "code",
      "metadata": {
        "execution": {
          "iopub.status.busy": "2021-10-26T15:16:01.865658Z",
          "iopub.execute_input": "2021-10-26T15:16:01.866374Z",
          "iopub.status.idle": "2021-10-26T15:16:01.876168Z",
          "shell.execute_reply.started": "2021-10-26T15:16:01.866335Z",
          "shell.execute_reply": "2021-10-26T15:16:01.875375Z"
        },
        "trusted": true,
        "id": "KTzWxxsAL3b4"
      },
      "source": [
        "def preprocess(english, spanish):\n",
        "    return (english, spanish[:, :-1]), spanish[:, 1:]\n",
        "def make_dataset(df, batch_size, mode):\n",
        "    english = english_vectorization(list(df[\"english\"]))\n",
        "    spanish = spanish_vectorization(list(df[\"spanish\"]))\n",
        "    dataset = tf.data.Dataset.from_tensor_slices((english, spanish))\n",
        "    if mode == \"train\":\n",
        "       dataset = dataset.shuffle(256) \n",
        "    dataset = dataset.batch(batch_size)\n",
        "    dataset = dataset.map(preprocess)\n",
        "    dataset = dataset.take(len(df) // batch_size).cache().prefetch(16).repeat(1)\n",
        "    return dataset"
      ],
      "execution_count": 9,
      "outputs": []
    },
    {
      "cell_type": "code",
      "metadata": {
        "execution": {
          "iopub.status.busy": "2021-10-26T15:13:36.785538Z",
          "iopub.execute_input": "2021-10-26T15:13:36.785794Z",
          "iopub.status.idle": "2021-10-26T15:13:36.809489Z",
          "shell.execute_reply.started": "2021-10-26T15:13:36.785767Z",
          "shell.execute_reply": "2021-10-26T15:13:36.808638Z"
        },
        "trusted": true,
        "colab": {
          "base_uri": "https://localhost:8080/"
        },
        "id": "se1LeoeJL3b4",
        "outputId": "e1fa195e-68d6-418d-869c-6db3950cf81b"
      },
      "source": [
        "train, valid = train_test_split(data, test_size=config.validation_split)\n",
        "train.shape, valid.shape"
      ],
      "execution_count": 10,
      "outputs": [
        {
          "output_type": "execute_result",
          "data": {
            "text/plain": [
              "((101119, 2), (17845, 2))"
            ]
          },
          "metadata": {},
          "execution_count": 10
        }
      ]
    },
    {
      "cell_type": "code",
      "metadata": {
        "execution": {
          "iopub.status.busy": "2021-10-26T15:16:06.106568Z",
          "iopub.execute_input": "2021-10-26T15:16:06.106860Z",
          "iopub.status.idle": "2021-10-26T15:16:07.861583Z",
          "shell.execute_reply.started": "2021-10-26T15:16:06.106826Z",
          "shell.execute_reply": "2021-10-26T15:16:07.860856Z"
        },
        "trusted": true,
        "id": "oAP4kRzzL3b4"
      },
      "source": [
        "train_ds = make_dataset(train, batch_size=config.batch_size, mode=\"train\")\n",
        "valid_ds = make_dataset(valid, batch_size=config.batch_size, mode=\"valid\")"
      ],
      "execution_count": 11,
      "outputs": []
    },
    {
      "cell_type": "code",
      "metadata": {
        "execution": {
          "iopub.status.busy": "2021-10-26T15:16:11.356385Z",
          "iopub.execute_input": "2021-10-26T15:16:11.356945Z",
          "iopub.status.idle": "2021-10-26T15:16:11.388063Z",
          "shell.execute_reply.started": "2021-10-26T15:16:11.356909Z",
          "shell.execute_reply": "2021-10-26T15:16:11.387346Z"
        },
        "trusted": true,
        "colab": {
          "base_uri": "https://localhost:8080/"
        },
        "id": "BMjiEEa9L3b5",
        "outputId": "598a1ca1-c02c-4be2-ec1e-d0632cda7d07"
      },
      "source": [
        "for batch in train_ds.take(1):\n",
        "    print(batch)"
      ],
      "execution_count": 12,
      "outputs": [
        {
          "output_type": "stream",
          "name": "stdout",
          "text": [
            "((<tf.Tensor: shape=(64, 20), dtype=int64, numpy=\n",
            "array([[   9,  265,  690, ...,    0,    0,    0],\n",
            "       [  49,   40,    5, ...,    0,    0,    0],\n",
            "       [ 181,    9,  175, ...,    0,    0,    0],\n",
            "       ...,\n",
            "       [   6,  550,   29, ...,    0,    0,    0],\n",
            "       [ 275, 7139, 8730, ...,    0,    0,    0],\n",
            "       [  26,   73,  258, ...,    0,    0,    0]])>, <tf.Tensor: shape=(64, 20), dtype=int64, numpy=\n",
            "array([[  2,   6,  44, ...,   0,   0,   0],\n",
            "       [  2,  90, 885, ...,   0,   0,   0],\n",
            "       [  2, 144, 381, ...,   0,   0,   0],\n",
            "       ...,\n",
            "       [  2,   8,  15, ...,   0,   0,   0],\n",
            "       [  2,  75,  62, ...,   0,   0,   0],\n",
            "       [  2,  30, 395, ...,   0,   0,   0]])>), <tf.Tensor: shape=(64, 20), dtype=int64, numpy=\n",
            "array([[    6,    44,    25, ...,     0,     0,     0],\n",
            "       [   90,   885,    77, ...,     0,     0,     0],\n",
            "       [  144,   381,     6, ...,     0,     0,     0],\n",
            "       ...,\n",
            "       [    8,    15,   774, ...,     0,     0,     0],\n",
            "       [   75,    62, 14668, ...,     0,     0,     0],\n",
            "       [   30,   395,  2648, ...,     0,     0,     0]])>)\n"
          ]
        }
      ]
    },
    {
      "cell_type": "markdown",
      "metadata": {
        "id": "XSXAmMV0L3b6"
      },
      "source": [
        "## Model Development"
      ]
    },
    {
      "cell_type": "markdown",
      "metadata": {
        "id": "n1qyTb9AL3b6"
      },
      "source": [
        "### The FNet Encoder"
      ]
    },
    {
      "cell_type": "code",
      "metadata": {
        "execution": {
          "iopub.status.busy": "2021-10-26T15:16:26.795290Z",
          "iopub.execute_input": "2021-10-26T15:16:26.795908Z",
          "iopub.status.idle": "2021-10-26T15:16:26.804907Z",
          "shell.execute_reply.started": "2021-10-26T15:16:26.795869Z",
          "shell.execute_reply": "2021-10-26T15:16:26.803937Z"
        },
        "trusted": true,
        "id": "fRXW_RaML3b6"
      },
      "source": [
        "class FNetEncoder(layers.Layer):\n",
        "    def __init__(self, embed_dim, dense_dim, **kwargs):\n",
        "        super(FNetEncoder, self).__init__(**kwargs)\n",
        "        self.embed_dim = embed_dim\n",
        "        self.dense_dim = dense_dim\n",
        "        self.dense_proj = keras.Sequential(\n",
        "            [\n",
        "                layers.Dense(dense_dim, activation=\"relu\"),\n",
        "                layers.Dense(embed_dim),\n",
        "            ]\n",
        "        )\n",
        "        self.layernorm_1 = layers.LayerNormalization()\n",
        "        self.layernorm_2 = layers.LayerNormalization()\n",
        "\n",
        "    def call(self, inputs):\n",
        "        # Casting the inputs to complex64\n",
        "        inp_complex = tf.cast(inputs, tf.complex64)\n",
        "        # Projecting the inputs to the frequency domain using FFT2D and\n",
        "        # extracting the real part of the output\n",
        "        fft = tf.math.real(tf.signal.fft2d(inp_complex))\n",
        "        proj_input = self.layernorm_1(inputs + fft)\n",
        "        proj_output = self.dense_proj(proj_input)\n",
        "        return self.layernorm_2(proj_input + proj_output)"
      ],
      "execution_count": 13,
      "outputs": []
    },
    {
      "cell_type": "markdown",
      "metadata": {
        "id": "ISzHta1dL3b7"
      },
      "source": [
        "### Positional Embedding"
      ]
    },
    {
      "cell_type": "code",
      "metadata": {
        "execution": {
          "iopub.status.busy": "2021-10-26T15:16:29.343196Z",
          "iopub.execute_input": "2021-10-26T15:16:29.343457Z",
          "iopub.status.idle": "2021-10-26T15:16:29.350526Z",
          "shell.execute_reply.started": "2021-10-26T15:16:29.343430Z",
          "shell.execute_reply": "2021-10-26T15:16:29.349874Z"
        },
        "trusted": true,
        "id": "kUiNiGv6L3b7"
      },
      "source": [
        "class PositionalEmbedding(layers.Layer):\n",
        "    def __init__(self, sequence_length, vocab_size, embed_dim, **kwargs):\n",
        "        super(PositionalEmbedding, self).__init__(**kwargs)\n",
        "        self.token_embeddings = layers.Embedding(\n",
        "            input_dim=vocab_size, output_dim=embed_dim\n",
        "        )\n",
        "        self.position_embeddings = layers.Embedding(\n",
        "            input_dim=sequence_length, output_dim=embed_dim\n",
        "        )\n",
        "        self.sequence_length = sequence_length\n",
        "        self.vocab_size = vocab_size\n",
        "        self.embed_dim = embed_dim\n",
        "\n",
        "    def call(self, inputs):\n",
        "        length = tf.shape(inputs)[-1]\n",
        "        positions = tf.range(start=0, limit=length, delta=1)\n",
        "        embedded_tokens = self.token_embeddings(inputs)\n",
        "        embedded_positions = self.position_embeddings(positions)\n",
        "        return embedded_tokens + embedded_positions\n",
        "\n",
        "    def compute_mask(self, inputs, mask=None):\n",
        "        return tf.math.not_equal(inputs, 0)\n"
      ],
      "execution_count": 14,
      "outputs": []
    },
    {
      "cell_type": "markdown",
      "metadata": {
        "id": "c3ZDwbjyL3b7"
      },
      "source": [
        "### FNet Decoder"
      ]
    },
    {
      "cell_type": "code",
      "metadata": {
        "execution": {
          "iopub.status.busy": "2021-10-26T15:14:10.944692Z",
          "iopub.execute_input": "2021-10-26T15:14:10.945044Z",
          "iopub.status.idle": "2021-10-26T15:14:10.958191Z",
          "shell.execute_reply.started": "2021-10-26T15:14:10.945009Z",
          "shell.execute_reply": "2021-10-26T15:14:10.957326Z"
        },
        "trusted": true,
        "id": "34M_6bo_L3b8"
      },
      "source": [
        "class FNetDecoder(layers.Layer):\n",
        "    def __init__(self, embed_dim, latent_dim, num_heads, **kwargs):\n",
        "        super(FNetDecoder, self).__init__(**kwargs)\n",
        "        self.embed_dim = embed_dim\n",
        "        self.latent_dim = latent_dim\n",
        "        self.num_heads = num_heads\n",
        "        self.attention_1 = layers.MultiHeadAttention(\n",
        "            num_heads=num_heads,\n",
        "            key_dim=embed_dim\n",
        "        )\n",
        "        self.attention_2 = layers.MultiHeadAttention(\n",
        "            num_heads=num_heads,\n",
        "            key_dim=embed_dim\n",
        "        )\n",
        "        self.dense_proj = keras.Sequential([\n",
        "            layers.Dense(latent_dim, activation=\"relu\"),\n",
        "            layers.Dense(embed_dim),\n",
        "        ])\n",
        "        self.layernorm_1 = layers.LayerNormalization()\n",
        "        self.layernorm_2 = layers.LayerNormalization()\n",
        "        self.layernorm_3 = layers.LayerNormalization()\n",
        "        self.supports_masking = True\n",
        "        \n",
        "    def call(self, inputs, encoder_outputs, mask = None):\n",
        "        causal_mask = self.get_causal_attention_mask(inputs)\n",
        "        if mask != None:\n",
        "            padding_mask = tf.cast(mask[:, tf.newaxis, :], dtype=\"int32\")\n",
        "            padding_mask = tf.minimum(padding_mask, causal_mask)\n",
        "        \n",
        "        attention_output_1 = self.attention_1(\n",
        "            query=inputs, \n",
        "            value=inputs, \n",
        "            key=inputs, \n",
        "            attention_mask=causal_mask\n",
        "        )\n",
        "        \n",
        "        out_1 = self.layernorm_1(inputs + attention_output_1)\n",
        "        \n",
        "        attention_output_2 = self.attention_2(\n",
        "            query=out_1, \n",
        "            value=encoder_outputs, \n",
        "            key=encoder_outputs, \n",
        "            attention_mask=padding_mask\n",
        "        )\n",
        "        \n",
        "        out_2 = self.layernorm_2(out_1 + attention_output_2)\n",
        "        \n",
        "        proj_output = self.dense_proj(out_2)\n",
        "        \n",
        "        return self.layernorm_3(out_2 + proj_output)\n",
        "    \n",
        "    def get_causal_attention_mask(self, inputs):\n",
        "        input_shape = tf.shape(inputs)\n",
        "        batch_size, sequence_length = input_shape[0], input_shape[1]\n",
        "        i = tf.range(sequence_length)[:, tf.newaxis]\n",
        "        j = tf.range(sequence_length)\n",
        "        mask = tf.cast(i >= j, dtype=\"int32\")\n",
        "        mask = tf.reshape(mask, (1, input_shape[1], input_shape[1]))\n",
        "        mult = tf.concat(\n",
        "            [tf.expand_dims(batch_size, -1), tf.constant([1, 1], dtype=tf.int32)],\n",
        "            axis=0\n",
        "        )\n",
        "        return tf.tile(mask, mult)"
      ],
      "execution_count": 15,
      "outputs": []
    },
    {
      "cell_type": "markdown",
      "metadata": {
        "id": "2VUKFd9sL3b9"
      },
      "source": [
        "### The FNet Model"
      ]
    },
    {
      "cell_type": "code",
      "metadata": {
        "execution": {
          "iopub.status.busy": "2021-10-26T15:16:45.427926Z",
          "iopub.execute_input": "2021-10-26T15:16:45.428247Z",
          "iopub.status.idle": "2021-10-26T15:16:45.437238Z",
          "shell.execute_reply.started": "2021-10-26T15:16:45.428217Z",
          "shell.execute_reply": "2021-10-26T15:16:45.436552Z"
        },
        "trusted": true,
        "id": "dp19cOEqL3b9"
      },
      "source": [
        "def get_fnet(config):\n",
        "    encoder_inputs = keras.Input(shape=(None,), dtype=\"int64\", name=\"encoder_inputs\")\n",
        "    x = PositionalEmbedding(config.sequence_length, config.vocab_size, config.embed_dim)(encoder_inputs)\n",
        "    encoder_outputs = FNetEncoder(config.embed_dim, config.latent_dim)(x)\n",
        "    encoder = keras.Model(encoder_inputs, encoder_outputs)\n",
        "\n",
        "    decoder_inputs = keras.Input(shape=(None,), dtype=\"int64\", name=\"decoder_inputs\")\n",
        "    encoded_seq_inputs = keras.Input(shape=(None, config.embed_dim), name=\"decoder_state_inputs\")\n",
        "    x = PositionalEmbedding(config.sequence_length, config.vocab_size, config.embed_dim)(decoder_inputs)\n",
        "    x = FNetDecoder(config.embed_dim, config.latent_dim, config.num_heads)(x, encoded_seq_inputs)\n",
        "    x = layers.Dropout(0.5)(x)\n",
        "    decoder_outputs = layers.Dense(config.vocab_size, activation=\"softmax\")(x)\n",
        "    decoder = keras.Model([decoder_inputs, encoded_seq_inputs], decoder_outputs, name=\"outputs\")\n",
        "\n",
        "    decoder_outputs = decoder([decoder_inputs, encoder_outputs])\n",
        "    fnet = keras.Model(\n",
        "        [encoder_inputs, decoder_inputs], decoder_outputs, name=\"fnet\"\n",
        "    )\n",
        "    return fnet"
      ],
      "execution_count": 16,
      "outputs": []
    },
    {
      "cell_type": "code",
      "metadata": {
        "execution": {
          "iopub.status.busy": "2021-10-26T15:16:49.084548Z",
          "iopub.execute_input": "2021-10-26T15:16:49.084806Z",
          "iopub.status.idle": "2021-10-26T15:16:49.671595Z",
          "shell.execute_reply.started": "2021-10-26T15:16:49.084780Z",
          "shell.execute_reply": "2021-10-26T15:16:49.670894Z"
        },
        "trusted": true,
        "id": "T-QhEpKoL3b-"
      },
      "source": [
        "fnet = get_fnet(config)"
      ],
      "execution_count": 17,
      "outputs": []
    },
    {
      "cell_type": "code",
      "metadata": {
        "execution": {
          "iopub.status.busy": "2021-10-26T15:16:51.803668Z",
          "iopub.execute_input": "2021-10-26T15:16:51.804461Z",
          "iopub.status.idle": "2021-10-26T15:16:51.815962Z",
          "shell.execute_reply.started": "2021-10-26T15:16:51.804420Z",
          "shell.execute_reply": "2021-10-26T15:16:51.815164Z"
        },
        "trusted": true,
        "colab": {
          "base_uri": "https://localhost:8080/"
        },
        "id": "ie_rklX2L3b-",
        "outputId": "ba08f590-0cf9-4c61-a9df-0244391b2f05"
      },
      "source": [
        "fnet.summary()"
      ],
      "execution_count": 18,
      "outputs": [
        {
          "output_type": "stream",
          "name": "stdout",
          "text": [
            "Model: \"transformer\"\n",
            "__________________________________________________________________________________________________\n",
            "Layer (type)                    Output Shape         Param #     Connected to                     \n",
            "==================================================================================================\n",
            "encoder_inputs (InputLayer)     [(None, None)]       0                                            \n",
            "__________________________________________________________________________________________________\n",
            "positional_embedding (Positiona (None, None, 256)    3845120     encoder_inputs[0][0]             \n",
            "__________________________________________________________________________________________________\n",
            "decoder_inputs (InputLayer)     [(None, None)]       0                                            \n",
            "__________________________________________________________________________________________________\n",
            "f_net_encoder (FNetEncoder)     (None, None, 256)    132608      positional_embedding[0][0]       \n",
            "__________________________________________________________________________________________________\n",
            "outputs (Functional)            (None, None, 15000)  8885400     decoder_inputs[0][0]             \n",
            "                                                                 f_net_encoder[0][0]              \n",
            "==================================================================================================\n",
            "Total params: 12,863,128\n",
            "Trainable params: 12,863,128\n",
            "Non-trainable params: 0\n",
            "__________________________________________________________________________________________________\n"
          ]
        }
      ]
    },
    {
      "cell_type": "markdown",
      "metadata": {
        "id": "x_O7FfflL3b-"
      },
      "source": [
        "Let's visualize the Model."
      ]
    },
    {
      "cell_type": "code",
      "metadata": {
        "execution": {
          "iopub.status.busy": "2021-10-26T15:16:55.591020Z",
          "iopub.execute_input": "2021-10-26T15:16:55.591563Z",
          "iopub.status.idle": "2021-10-26T15:16:55.758810Z",
          "shell.execute_reply.started": "2021-10-26T15:16:55.591528Z",
          "shell.execute_reply": "2021-10-26T15:16:55.757786Z"
        },
        "trusted": true,
        "colab": {
          "base_uri": "https://localhost:8080/",
          "height": 413
        },
        "id": "6Tm1nG0CL3b-",
        "outputId": "0cd78731-3c68-4fdf-f8c7-9b0b2512013d"
      },
      "source": [
        "keras.utils.plot_model(fnet, show_shapes=True)"
      ],
      "execution_count": 19,
      "outputs": [
        {
          "output_type": "execute_result",
          "data": {
            "image/png": "[encoded data removed]",
            "text/plain": [
              "<IPython.core.display.Image object>"
            ]
          },
          "metadata": {},
          "execution_count": 19
        }
      ]
    },
    {
      "cell_type": "markdown",
      "metadata": {
        "id": "NFtSL6-3L3b-"
      },
      "source": [
        "### Model Training\n"
      ]
    },
    {
      "cell_type": "code",
      "metadata": {
        "execution": {
          "iopub.status.busy": "2021-10-26T15:16:59.012309Z",
          "iopub.execute_input": "2021-10-26T15:16:59.013587Z",
          "iopub.status.idle": "2021-10-26T15:16:59.027642Z",
          "shell.execute_reply.started": "2021-10-26T15:16:59.013533Z",
          "shell.execute_reply": "2021-10-26T15:16:59.026842Z"
        },
        "trusted": true,
        "id": "3wMy6AcIL3b_"
      },
      "source": [
        "fnet.compile(\n",
        "    \"adam\", loss=\"sparse_categorical_crossentropy\", metrics=[\"accuracy\"]\n",
        ")"
      ],
      "execution_count": 20,
      "outputs": []
    },
    {
      "cell_type": "code",
      "metadata": {
        "execution": {
          "iopub.status.busy": "2021-10-26T15:17:46.530466Z",
          "iopub.execute_input": "2021-10-26T15:17:46.531092Z"
        },
        "trusted": true,
        "colab": {
          "base_uri": "https://localhost:8080/"
        },
        "id": "YKjayqSSL3b_",
        "outputId": "0a6677a7-60a0-4eda-e992-f0807e4d8f6e"
      },
      "source": [
        "checkpoint = keras.callbacks.ModelCheckpoint(config.model_path, save_weights_only=True, save_best_only=True)\n",
        "early_stopping = keras.callbacks.EarlyStopping(patience=5)\n",
        "reduce_lr = keras.callbacks.ReduceLROnPlateau(patience=5, min_delta=1e-4, min_lr=1e-4)\n",
        "if os.path.exists(config.model_path):\n",
        "  fnet.load_weights(config.model_path)\n",
        "fnet.fit(train_ds, epochs=config.epochs, validation_data=valid_ds, callbacks=[checkpoint, reduce_lr])"
      ],
      "execution_count": null,
      "outputs": [
        {
          "output_type": "stream",
          "name": "stdout",
          "text": [
            "Epoch 1/10\n",
            "1579/1579 [==============================] - 108s 68ms/step - loss: 0.4158 - accuracy: 0.7648 - val_loss: 0.6592 - val_accuracy: 0.6952\n",
            "Epoch 2/10\n",
            "1579/1579 [==============================] - ETA: 0s - loss: 0.3765 - accuracy: 0.7840"
          ]
        }
      ]
    },
    {
      "cell_type": "markdown",
      "metadata": {
        "id": "rTD8Bz_2OQ-8"
      },
      "source": [
        "## Translation\n"
      ]
    },
    {
      "cell_type": "code",
      "metadata": {
        "id": "qu_kOS-1OjM5"
      },
      "source": [
        "spanish_vocab = spanish_vectorization.get_vocabulary()\n",
        "spanish_index_lookup = dict(zip(range(len(spanish_vocab)), spanish_vocab))\n",
        "def decode_sequence(fnet, input_sentence):\n",
        "    tokenized_input_sentence = english_vectorization([input_sentence])\n",
        "    decoded_sentence = \"[start]\"\n",
        "    for i in range(config.sequence_length):\n",
        "        tokenized_target_sentence = spanish_vectorization([decoded_sentence])[:, :-1]\n",
        "        predictions = fnet([tokenized_input_sentence, tokenized_target_sentence])\n",
        "\n",
        "        sampled_token_index = np.argmax(predictions[0, i, :])\n",
        "        sampled_token = spanish_index_lookup[sampled_token_index]\n",
        "        decoded_sentence += \" \" + sampled_token\n",
        "\n",
        "        if sampled_token == \"[end]\":\n",
        "            break\n",
        "    return decoded_sentence"
      ],
      "execution_count": 22,
      "outputs": []
    },
    {
      "cell_type": "code",
      "metadata": {
        "colab": {
          "base_uri": "https://localhost:8080/"
        },
        "id": "IEToUbQSN6Bc",
        "outputId": "3093beda-e738-4fd7-8b37-ef5cc72f2dcb"
      },
      "source": [
        "fnet.load_weights(config.model_path)\n",
        "for i in np.random.choice(len(data), 10):\n",
        "    item = data.iloc[i]\n",
        "    translated = decode_sequence(fnet, item[\"english\"])\n",
        "    print(\"English:\", item[\"english\"])\n",
        "    print(\"Spanish:\", item[\"spanish\"])\n",
        "    print(\"Translated:\", translated)"
      ],
      "execution_count": 23,
      "outputs": [
        {
          "output_type": "stream",
          "name": "stdout",
          "text": [
            "English: She walked as fast as she could to catch up with him.\n",
            "Spanish: [start] Ella caminó tan rápido como pudo para alcanzarlo. [end]\n",
            "Translated: [start] ella caminó tan rápido como pudo para llegar a la orden [end]\n",
            "English: Tom doesn't listen to advice.\n",
            "Spanish: [start] Tom no escucha consejos. [end]\n",
            "Translated: [start] tom no escucha consejo [end]\n",
            "English: What's the emergency?\n",
            "Spanish: [start] ¿Cuál es la emergencia? [end]\n",
            "Translated: [start] cuál es la emergencia [end]\n",
            "English: We have made numerous improvements to our house since we bought it.\n",
            "Spanish: [start] Hemos hecho varias mejoras a nuestra casa desde que la compramos. [end]\n",
            "Translated: [start] hemos hecho numerosas mejoras en nuestra casa desde que lo hice [end]\n",
            "English: I neither drink nor smoke.\n",
            "Spanish: [start] Yo no tomo ni fumo. [end]\n",
            "Translated: [start] no bebo ni fumo [end]\n",
            "English: Grandmother mows the grass in the garden.\n",
            "Spanish: [start] La abuela corta el césped en el jardín. [end]\n",
            "Translated: [start] el abuela corta el césped en el jardín [end]\n",
            "English: I'll tell you only if you promise to keep it to yourself.\n",
            "Spanish: [start] Te lo contaré sólo si me prometes que lo mantendrás en secreto. [end]\n",
            "Translated: [start] te diré a ti solo si te lo [UNK] [end]\n",
            "English: I've been thinking about it.\n",
            "Spanish: [start] Me lo he estado pensando. [end]\n",
            "Translated: [start] he estado pensando en ello [end]\n",
            "English: You may have read this book already.\n",
            "Spanish: [start] Puede que ya hayas leído este libro. [end]\n",
            "Translated: [start] ya puedes leer este libro [end]\n",
            "English: The muddy road has ruined my new shoes.\n",
            "Spanish: [start] La carretera enfangada ha destrozado mis zapatos. [end]\n",
            "Translated: [start] mi tío ha [UNK] la [UNK] zapatos nuevos [end]\n"
          ]
        }
      ]
    },
    {
      "cell_type": "markdown",
      "metadata": {
        "id": "uKmcuxr1L3cH"
      },
      "source": [
        "## References\n",
        "- [FNet: Mixing Tokens with Fourier Transforms](https://arxiv.org/abs/2105.03824v3)\n",
        "- [Attention Is All You Need](https://arxiv.org/abs/1706.03762v5)\n",
        "- [Text Generation using FNet](https://keras.io/examples/nlp/text_generation_fnet/)\n"
      ]
    }
  ]
}